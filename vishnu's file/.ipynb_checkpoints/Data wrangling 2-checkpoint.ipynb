{
 "cells": [
  {
   "cell_type": "code",
   "execution_count": null,
   "metadata": {},
   "outputs": [],
   "source": [
    "# deal with missing values\n",
    "# deal with inconsistencies\n",
    "# scan numeric values for outliers\n",
    "# deal with outliers\n",
    "# apply transformation on atleast one variable\n",
    "# convert the distribution into normal distribution"
   ]
  },
  {
   "cell_type": "code",
   "execution_count": 41,
   "metadata": {},
   "outputs": [],
   "source": [
    "import pandas as pd\n",
    "import numpy as np"
   ]
  },
  {
   "cell_type": "code",
   "execution_count": 42,
   "metadata": {},
   "outputs": [
    {
     "data": {
      "text/html": [
       "<div>\n",
       "<style scoped>\n",
       "    .dataframe tbody tr th:only-of-type {\n",
       "        vertical-align: middle;\n",
       "    }\n",
       "\n",
       "    .dataframe tbody tr th {\n",
       "        vertical-align: top;\n",
       "    }\n",
       "\n",
       "    .dataframe thead th {\n",
       "        text-align: right;\n",
       "    }\n",
       "</style>\n",
       "<table border=\"1\" class=\"dataframe\">\n",
       "  <thead>\n",
       "    <tr style=\"text-align: right;\">\n",
       "      <th></th>\n",
       "      <th>STUDENT_ID</th>\n",
       "      <th>GENDER</th>\n",
       "      <th>PLACEMENT</th>\n",
       "      <th>HONOR_OPTED_OR_NOT</th>\n",
       "      <th>EDUCATION_TYPE</th>\n",
       "      <th>ACADEMIC_PROGRAM</th>\n",
       "      <th>COURSE 1 MARKS</th>\n",
       "      <th>COURSE 2 MARKS</th>\n",
       "      <th>COURSE 3 MARKS</th>\n",
       "      <th>COURSE 4 MARKS</th>\n",
       "      <th>COURSE 5 MARKS</th>\n",
       "      <th>PERCENTILE</th>\n",
       "      <th>OVEARLL_GRADE</th>\n",
       "    </tr>\n",
       "  </thead>\n",
       "  <tbody>\n",
       "    <tr>\n",
       "      <th>0</th>\n",
       "      <td>SB11201210000129</td>\n",
       "      <td>F</td>\n",
       "      <td>Yes</td>\n",
       "      <td>Yes</td>\n",
       "      <td>ACADEMIC</td>\n",
       "      <td>INDUSTRIAL ENGINEERING</td>\n",
       "      <td>71.0</td>\n",
       "      <td>93.0</td>\n",
       "      <td>71.0</td>\n",
       "      <td>93.0</td>\n",
       "      <td>79.0</td>\n",
       "      <td>91</td>\n",
       "      <td>FIRST CLASS</td>\n",
       "    </tr>\n",
       "    <tr>\n",
       "      <th>1</th>\n",
       "      <td>SB11201210000137</td>\n",
       "      <td>F</td>\n",
       "      <td>Yes</td>\n",
       "      <td>Yes</td>\n",
       "      <td>ACADEMIC</td>\n",
       "      <td>INDUSTRIAL ENGINEERING</td>\n",
       "      <td>97.0</td>\n",
       "      <td>38.0</td>\n",
       "      <td>86.0</td>\n",
       "      <td>98.0</td>\n",
       "      <td>78.0</td>\n",
       "      <td>92</td>\n",
       "      <td>THIRD CLASS</td>\n",
       "    </tr>\n",
       "    <tr>\n",
       "      <th>2</th>\n",
       "      <td>SB11201210005154</td>\n",
       "      <td>M</td>\n",
       "      <td>No</td>\n",
       "      <td>Yes</td>\n",
       "      <td>ACADEMIC</td>\n",
       "      <td>ELECTRONIC ENGINEERING</td>\n",
       "      <td>17.0</td>\n",
       "      <td>1.0</td>\n",
       "      <td>18.0</td>\n",
       "      <td>43.0</td>\n",
       "      <td>22.0</td>\n",
       "      <td>7</td>\n",
       "      <td>DISTINCTION</td>\n",
       "    </tr>\n",
       "    <tr>\n",
       "      <th>3</th>\n",
       "      <td>SB11201210007504</td>\n",
       "      <td>F</td>\n",
       "      <td>Yes</td>\n",
       "      <td>Yes</td>\n",
       "      <td>ACADEMIC</td>\n",
       "      <td>INDUSTRIAL ENGINEERING</td>\n",
       "      <td>65.0</td>\n",
       "      <td>35.0</td>\n",
       "      <td>76.0</td>\n",
       "      <td>80.0</td>\n",
       "      <td>48.0</td>\n",
       "      <td>67</td>\n",
       "      <td>FIRST CLASS</td>\n",
       "    </tr>\n",
       "    <tr>\n",
       "      <th>4</th>\n",
       "      <td>SB11201210007548</td>\n",
       "      <td>M</td>\n",
       "      <td>Yes</td>\n",
       "      <td>Yes</td>\n",
       "      <td>ACADEMIC</td>\n",
       "      <td>INDUSTRIAL ENGINEERING</td>\n",
       "      <td>94.0</td>\n",
       "      <td>94.0</td>\n",
       "      <td>98.0</td>\n",
       "      <td>100.0</td>\n",
       "      <td>71.0</td>\n",
       "      <td>98</td>\n",
       "      <td>FIRST CLASS</td>\n",
       "    </tr>\n",
       "    <tr>\n",
       "      <th>...</th>\n",
       "      <td>...</td>\n",
       "      <td>...</td>\n",
       "      <td>...</td>\n",
       "      <td>...</td>\n",
       "      <td>...</td>\n",
       "      <td>...</td>\n",
       "      <td>...</td>\n",
       "      <td>...</td>\n",
       "      <td>...</td>\n",
       "      <td>...</td>\n",
       "      <td>...</td>\n",
       "      <td>...</td>\n",
       "      <td>...</td>\n",
       "    </tr>\n",
       "    <tr>\n",
       "      <th>12406</th>\n",
       "      <td>SB11201420568705</td>\n",
       "      <td>M</td>\n",
       "      <td>Yes</td>\n",
       "      <td>Yes</td>\n",
       "      <td>ACADEMIC</td>\n",
       "      <td>MECHATRONICS ENGINEERING</td>\n",
       "      <td>88.0</td>\n",
       "      <td>71.0</td>\n",
       "      <td>86.0</td>\n",
       "      <td>87.0</td>\n",
       "      <td>65.0</td>\n",
       "      <td>88</td>\n",
       "      <td>FIRST CLASS</td>\n",
       "    </tr>\n",
       "    <tr>\n",
       "      <th>12407</th>\n",
       "      <td>SB11201420573045</td>\n",
       "      <td>M</td>\n",
       "      <td>Yes</td>\n",
       "      <td>Yes</td>\n",
       "      <td>ACADEMIC</td>\n",
       "      <td>INDUSTRIAL ENGINEERING</td>\n",
       "      <td>46.0</td>\n",
       "      <td>39.0</td>\n",
       "      <td>44.0</td>\n",
       "      <td>11.0</td>\n",
       "      <td>0.0</td>\n",
       "      <td>4</td>\n",
       "      <td>FIRST CLASS</td>\n",
       "    </tr>\n",
       "    <tr>\n",
       "      <th>12408</th>\n",
       "      <td>SB11201420578809</td>\n",
       "      <td>M</td>\n",
       "      <td>Yes</td>\n",
       "      <td>No</td>\n",
       "      <td>ACADEMIC</td>\n",
       "      <td>INDUSTRIAL ENGINEERING</td>\n",
       "      <td>98.0</td>\n",
       "      <td>88.0</td>\n",
       "      <td>90.0</td>\n",
       "      <td>81.0</td>\n",
       "      <td>87.0</td>\n",
       "      <td>95</td>\n",
       "      <td>FIRST CLASS</td>\n",
       "    </tr>\n",
       "    <tr>\n",
       "      <th>12409</th>\n",
       "      <td>SB11201420578812</td>\n",
       "      <td>F</td>\n",
       "      <td>Yes</td>\n",
       "      <td>Yes</td>\n",
       "      <td>ACADEMIC</td>\n",
       "      <td>NaN</td>\n",
       "      <td>60.0</td>\n",
       "      <td>80.0</td>\n",
       "      <td>51.0</td>\n",
       "      <td>8.0</td>\n",
       "      <td>42.0</td>\n",
       "      <td>50</td>\n",
       "      <td>FIRST CLASS</td>\n",
       "    </tr>\n",
       "    <tr>\n",
       "      <th>12410</th>\n",
       "      <td>SB11201420583232</td>\n",
       "      <td>M</td>\n",
       "      <td>No</td>\n",
       "      <td>No</td>\n",
       "      <td>ACADEMIC</td>\n",
       "      <td>INDUSTRIAL ENGINEERING</td>\n",
       "      <td>83.0</td>\n",
       "      <td>95.0</td>\n",
       "      <td>91.0</td>\n",
       "      <td>79.0</td>\n",
       "      <td>47.0</td>\n",
       "      <td>89</td>\n",
       "      <td>THIRD CLASS</td>\n",
       "    </tr>\n",
       "  </tbody>\n",
       "</table>\n",
       "<p>12411 rows × 13 columns</p>\n",
       "</div>"
      ],
      "text/plain": [
       "             STUDENT_ID GENDER PLACEMENT HONOR_OPTED_OR_NOT EDUCATION_TYPE  \\\n",
       "0      SB11201210000129      F       Yes                Yes       ACADEMIC   \n",
       "1      SB11201210000137      F       Yes                Yes       ACADEMIC   \n",
       "2      SB11201210005154      M        No                Yes       ACADEMIC   \n",
       "3      SB11201210007504      F       Yes                Yes       ACADEMIC   \n",
       "4      SB11201210007548      M       Yes                Yes       ACADEMIC   \n",
       "...                 ...    ...       ...                ...            ...   \n",
       "12406  SB11201420568705      M       Yes                Yes       ACADEMIC   \n",
       "12407  SB11201420573045      M       Yes                Yes       ACADEMIC   \n",
       "12408  SB11201420578809      M       Yes                 No       ACADEMIC   \n",
       "12409  SB11201420578812      F       Yes                Yes       ACADEMIC   \n",
       "12410  SB11201420583232      M        No                 No       ACADEMIC   \n",
       "\n",
       "               ACADEMIC_PROGRAM  COURSE 1 MARKS  COURSE 2 MARKS  \\\n",
       "0        INDUSTRIAL ENGINEERING            71.0            93.0   \n",
       "1        INDUSTRIAL ENGINEERING            97.0            38.0   \n",
       "2        ELECTRONIC ENGINEERING            17.0             1.0   \n",
       "3        INDUSTRIAL ENGINEERING            65.0            35.0   \n",
       "4        INDUSTRIAL ENGINEERING            94.0            94.0   \n",
       "...                         ...             ...             ...   \n",
       "12406  MECHATRONICS ENGINEERING            88.0            71.0   \n",
       "12407    INDUSTRIAL ENGINEERING            46.0            39.0   \n",
       "12408    INDUSTRIAL ENGINEERING            98.0            88.0   \n",
       "12409                       NaN            60.0            80.0   \n",
       "12410    INDUSTRIAL ENGINEERING            83.0            95.0   \n",
       "\n",
       "       COURSE 3 MARKS  COURSE 4 MARKS  COURSE 5 MARKS  PERCENTILE  \\\n",
       "0                71.0            93.0            79.0          91   \n",
       "1                86.0            98.0            78.0          92   \n",
       "2                18.0            43.0            22.0           7   \n",
       "3                76.0            80.0            48.0          67   \n",
       "4                98.0           100.0            71.0          98   \n",
       "...               ...             ...             ...         ...   \n",
       "12406            86.0            87.0            65.0          88   \n",
       "12407            44.0            11.0             0.0           4   \n",
       "12408            90.0            81.0            87.0          95   \n",
       "12409            51.0             8.0            42.0          50   \n",
       "12410            91.0            79.0            47.0          89   \n",
       "\n",
       "      OVEARLL_GRADE  \n",
       "0       FIRST CLASS  \n",
       "1       THIRD CLASS  \n",
       "2       DISTINCTION  \n",
       "3       FIRST CLASS  \n",
       "4       FIRST CLASS  \n",
       "...             ...  \n",
       "12406   FIRST CLASS  \n",
       "12407   FIRST CLASS  \n",
       "12408   FIRST CLASS  \n",
       "12409   FIRST CLASS  \n",
       "12410   THIRD CLASS  \n",
       "\n",
       "[12411 rows x 13 columns]"
      ]
     },
     "execution_count": 42,
     "metadata": {},
     "output_type": "execute_result"
    }
   ],
   "source": [
    "dataframe = pd.read_csv(\"C:/Users/Lenovo/Downloads/Academic.csv\")\n",
    "dataframe"
   ]
  },
  {
   "cell_type": "code",
   "execution_count": 43,
   "metadata": {},
   "outputs": [
    {
     "data": {
      "text/plain": [
       "STUDENT_ID             0\n",
       "GENDER                22\n",
       "PLACEMENT             15\n",
       "HONOR_OPTED_OR_NOT    14\n",
       "EDUCATION_TYPE        15\n",
       "ACADEMIC_PROGRAM      34\n",
       "COURSE 1 MARKS        11\n",
       "COURSE 2 MARKS         8\n",
       "COURSE 3 MARKS        14\n",
       "COURSE 4 MARKS        14\n",
       "COURSE 5 MARKS        22\n",
       "PERCENTILE             0\n",
       "OVEARLL_GRADE          0\n",
       "dtype: int64"
      ]
     },
     "execution_count": 43,
     "metadata": {},
     "output_type": "execute_result"
    }
   ],
   "source": [
    "dataframe.isnull().sum()"
   ]
  },
  {
   "cell_type": "code",
   "execution_count": 44,
   "metadata": {},
   "outputs": [
    {
     "data": {
      "text/plain": [
       "(12411, 13)"
      ]
     },
     "execution_count": 44,
     "metadata": {},
     "output_type": "execute_result"
    }
   ],
   "source": [
    "dataframe.shape\n"
   ]
  },
  {
   "cell_type": "code",
   "execution_count": 45,
   "metadata": {},
   "outputs": [
    {
     "name": "stdout",
     "output_type": "stream",
     "text": [
      "<class 'pandas.core.frame.DataFrame'>\n",
      "RangeIndex: 12411 entries, 0 to 12410\n",
      "Data columns (total 13 columns):\n",
      " #   Column              Non-Null Count  Dtype  \n",
      "---  ------              --------------  -----  \n",
      " 0   STUDENT_ID          12411 non-null  object \n",
      " 1   GENDER              12389 non-null  object \n",
      " 2   PLACEMENT           12396 non-null  object \n",
      " 3   HONOR_OPTED_OR_NOT  12397 non-null  object \n",
      " 4   EDUCATION_TYPE      12396 non-null  object \n",
      " 5   ACADEMIC_PROGRAM    12377 non-null  object \n",
      " 6   COURSE 1 MARKS      12400 non-null  float64\n",
      " 7   COURSE 2 MARKS      12403 non-null  float64\n",
      " 8   COURSE 3 MARKS      12397 non-null  float64\n",
      " 9   COURSE 4 MARKS      12397 non-null  float64\n",
      " 10  COURSE 5 MARKS      12389 non-null  float64\n",
      " 11  PERCENTILE          12411 non-null  int64  \n",
      " 12  OVEARLL_GRADE       12411 non-null  object \n",
      "dtypes: float64(5), int64(1), object(7)\n",
      "memory usage: 1.2+ MB\n"
     ]
    }
   ],
   "source": [
    "dataframe.info()"
   ]
  },
  {
   "cell_type": "code",
   "execution_count": 46,
   "metadata": {},
   "outputs": [
    {
     "data": {
      "text/plain": [
       "STUDENT_ID             object\n",
       "GENDER                 object\n",
       "PLACEMENT              object\n",
       "HONOR_OPTED_OR_NOT     object\n",
       "EDUCATION_TYPE         object\n",
       "ACADEMIC_PROGRAM       object\n",
       "COURSE 1 MARKS        float64\n",
       "COURSE 2 MARKS        float64\n",
       "COURSE 3 MARKS        float64\n",
       "COURSE 4 MARKS        float64\n",
       "COURSE 5 MARKS        float64\n",
       "PERCENTILE              int64\n",
       "OVEARLL_GRADE          object\n",
       "dtype: object"
      ]
     },
     "execution_count": 46,
     "metadata": {},
     "output_type": "execute_result"
    }
   ],
   "source": [
    "dataframe.dtypes"
   ]
  },
  {
   "cell_type": "code",
   "execution_count": 47,
   "metadata": {},
   "outputs": [],
   "source": [
    "from sklearn.impute import SimpleImputer"
   ]
  },
  {
   "cell_type": "code",
   "execution_count": 48,
   "metadata": {},
   "outputs": [],
   "source": [
    "imputer = SimpleImputer(strategy='most_frequent', missing_values = np.nan)\n",
    "imputer1 = SimpleImputer(strategy='mean', missing_values = np.nan)"
   ]
  },
  {
   "cell_type": "code",
   "execution_count": 49,
   "metadata": {},
   "outputs": [],
   "source": [
    "dataframe[['GENDER', 'PLACEMENT', 'EDUCATION_TYPE', 'ACADEMIC_PROGRAM']] = imputer.fit_transform(dataframe[['GENDER', 'PLACEMENT', 'EDUCATION_TYPE', 'ACADEMIC_PROGRAM']])"
   ]
  },
  {
   "cell_type": "code",
   "execution_count": 50,
   "metadata": {},
   "outputs": [],
   "source": [
    "dataframe[['COURSE 1 MARKS', 'COURSE 2 MARKS', 'COURSE 3 MARKS', 'COURSE 4 MARKS', 'COURSE 5 MARKS']] = imputer1.fit_transform(dataframe[['COURSE 1 MARKS', 'COURSE 2 MARKS', 'COURSE 3 MARKS', 'COURSE 4 MARKS', 'COURSE 5 MARKS']])"
   ]
  },
  {
   "cell_type": "code",
   "execution_count": 51,
   "metadata": {},
   "outputs": [
    {
     "data": {
      "text/plain": [
       "STUDENT_ID             0\n",
       "GENDER                 0\n",
       "PLACEMENT              0\n",
       "HONOR_OPTED_OR_NOT    14\n",
       "EDUCATION_TYPE         0\n",
       "ACADEMIC_PROGRAM       0\n",
       "COURSE 1 MARKS         0\n",
       "COURSE 2 MARKS         0\n",
       "COURSE 3 MARKS         0\n",
       "COURSE 4 MARKS         0\n",
       "COURSE 5 MARKS         0\n",
       "PERCENTILE             0\n",
       "OVEARLL_GRADE          0\n",
       "dtype: int64"
      ]
     },
     "execution_count": 51,
     "metadata": {},
     "output_type": "execute_result"
    }
   ],
   "source": [
    "dataframe.isnull().sum()"
   ]
  },
  {
   "cell_type": "code",
   "execution_count": 52,
   "metadata": {},
   "outputs": [],
   "source": [
    "dataframe['HONOR_OPTED_OR_NOT'] = dataframe['HONOR_OPTED_OR_NOT'].fillna('no')"
   ]
  },
  {
   "cell_type": "code",
   "execution_count": 53,
   "metadata": {},
   "outputs": [
    {
     "data": {
      "text/plain": [
       "STUDENT_ID            0\n",
       "GENDER                0\n",
       "PLACEMENT             0\n",
       "HONOR_OPTED_OR_NOT    0\n",
       "EDUCATION_TYPE        0\n",
       "ACADEMIC_PROGRAM      0\n",
       "COURSE 1 MARKS        0\n",
       "COURSE 2 MARKS        0\n",
       "COURSE 3 MARKS        0\n",
       "COURSE 4 MARKS        0\n",
       "COURSE 5 MARKS        0\n",
       "PERCENTILE            0\n",
       "OVEARLL_GRADE         0\n",
       "dtype: int64"
      ]
     },
     "execution_count": 53,
     "metadata": {},
     "output_type": "execute_result"
    }
   ],
   "source": [
    "dataframe.isnull().sum()"
   ]
  },
  {
   "cell_type": "code",
   "execution_count": 54,
   "metadata": {},
   "outputs": [],
   "source": [
    "import seaborn as sns\n",
    "import matplotlib.pyplot as pltCEN"
   ]
  },
  {
   "cell_type": "code",
   "execution_count": 55,
   "metadata": {},
   "outputs": [
    {
     "data": {
      "text/plain": [
       "<AxesSubplot:>"
      ]
     },
     "execution_count": 55,
     "metadata": {},
     "output_type": "execute_result"
    },
    {
     "data": {
      "image/png": "[encoded data removed]",
      "text/plain": [
       "<Figure size 1080x720 with 1 Axes>"
      ]
     },
     "metadata": {
      "needs_background": "light"
     },
     "output_type": "display_data"
    }
   ],
   "source": [
    "pltCEN.figure(figsize=(15,10))\n",
    "sns.boxplot(data=dataframe)"
   ]
  },
  {
   "cell_type": "code",
   "execution_count": 56,
   "metadata": {},
   "outputs": [
    {
     "name": "stdout",
     "output_type": "stream",
     "text": [
      "[4.0, 6.0, 3.0, 1.0, 5.0, 2.0, 8.0, 7.0, 2.0, 8.0, 6.0, 9.0, 2.0, 9.0, 8.0, 1.0, 9.0, 2.0, 2.0, 1.0, 6.0, 7.0, 4.0, 5.0, 9.0, 7.0, 9.0, 1.0, 2.0, 8.0, 5.0, 2.0, 8.0, 8.0, 1.0, 4.0, 7.0, 4.0, 7.0, 8.0, 3.0, 8.0, 5.0, 9.0, 7.0, 8.0, 7.0, 1.0, 9.0, 2.0, 7.0, 5.0, 3.0, 7.0, 3.0, 8.0, 6.0, 9.0, 8.0, 9.0, 6.0, 1.0, 7.0, 8.0, 1.0, 9.0, 1.0, 7.0, 8.0, 9.0, 6.0, 7.0, 7.0, 8.0, 4.0, 6.0, 6.0, 5.0, -1.0, 8.0, 8.0, 3.0, 1.0, 3.0, 3.0, 2.0, 9.0, 8.0, 3.0, 6.0, 3.0, 2.0, 7.0, 8.0, 4.0, 8.0, 3.0, 7.0, 9.0, 9.0, 3.0, 7.0, 6.0, 1.0, 1.0, 1.0, -1.0, 9.0, 4.0, 8.0, 7.0, 1.0, 6.0]\n"
     ]
    }
   ],
   "source": [
    "outliers = []\n",
    "def print_outliers(data):\n",
    "    thresh = 3\n",
    "    mean = np.mean(data)\n",
    "    std = np.std(data)\n",
    "    for i in data:\n",
    "        z_score = (i-mean)/std\n",
    "        if(np.abs(z_score) > thresh):\n",
    "            outliers.append(i)\n",
    "    return outliers\n",
    "\n",
    "outlier = print_outliers(dataframe['COURSE 1 MARKS'])\n",
    "print(outlier)"
   ]
  },
  {
   "cell_type": "code",
   "execution_count": 59,
   "metadata": {},
   "outputs": [
    {
     "data": {
      "text/plain": [
       "<AxesSubplot:>"
      ]
     },
     "execution_count": 59,
     "metadata": {},
     "output_type": "execute_result"
    },
    {
     "data": {
      "image/png": "[encoded data removed]",
      "text/plain": [
       "<Figure size 1080x720 with 1 Axes>"
      ]
     },
     "metadata": {
      "needs_background": "light"
     },
     "output_type": "display_data"
    }
   ],
   "source": [
    "qr1 = dataframe['COURSE 1 MARKS'].quantile(0.25)\n",
    "qr3 = dataframe['COURSE 1 MARKS'].quantile(0.75)\n",
    "IQR = qr3-qr1\n",
    "\n",
    "l_bound = qr1 - (IQR * 1.5)\n",
    "u_bound = qr3 + (IQR * 1.5)\n",
    "\n",
    "dataframe = dataframe[dataframe['COURSE 1 MARKS'] > l_bound]\n",
    "dataframe = dataframe[dataframe['COURSE 1 MARKS'] < u_bound]\n",
    "\n",
    "pltCEN.figure(figsize=(15, 10))\n",
    "sns.boxplot(data=dataframe)"
   ]
  }
 ],
 "metadata": {
  "kernelspec": {
   "display_name": "Python 3",
   "language": "python",
   "name": "python3"
  },
  "language_info": {
   "codemirror_mode": {
    "name": "ipython",
    "version": 3
   },
   "file_extension": ".py",
   "mimetype": "text/x-python",
   "name": "python",
   "nbconvert_exporter": "python",
   "pygments_lexer": "ipython3",
   "version": "3.8.3"
  }
 },
 "nbformat": 4,
 "nbformat_minor": 5
}
