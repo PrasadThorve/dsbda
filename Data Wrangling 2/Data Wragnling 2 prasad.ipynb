{
 "cells": [
  {
   "cell_type": "raw",
   "metadata": {},
   "source": [
    "# Problem Statement No. 01\n",
    "Consider the “Academic performance” dataset of students (Academic_Performance_Dataset.csv) and perform the\n",
    "following operations using Python.\n",
    "a) Scan all variables for missing values and inconsistencies. If there are missing values and/or inconsistencies, use any\n",
    "of the suitable techniques to deal with them.\n",
    "b) Scan all numeric variables for outliers. If there are outliers, use any of the suitable techniques to deal with them.\n",
    "c) Apply data transformations on categorical variables to convert it into numerical variables.\n",
    "Reason and document your approach properly."
   ]
  },
  {
   "cell_type": "markdown",
   "metadata": {},
   "source": [
    "### Dealing with missing values"
   ]
  },
  {
   "cell_type": "code",
   "execution_count": 24,
   "metadata": {},
   "outputs": [],
   "source": [
    "import pandas as pd"
   ]
  },
  {
   "cell_type": "code",
   "execution_count": 25,
   "metadata": {},
   "outputs": [],
   "source": [
    "DataFrame = pd.read_csv(\"Academic_Performance.csv\")\n",
    "df = DataFrame.copy()"
   ]
  },
  {
   "cell_type": "code",
   "execution_count": 26,
   "metadata": {},
   "outputs": [
    {
     "data": {
      "text/html": [
       "<div>\n",
       "<style scoped>\n",
       "    .dataframe tbody tr th:only-of-type {\n",
       "        vertical-align: middle;\n",
       "    }\n",
       "\n",
       "    .dataframe tbody tr th {\n",
       "        vertical-align: top;\n",
       "    }\n",
       "\n",
       "    .dataframe thead th {\n",
       "        text-align: right;\n",
       "    }\n",
       "</style>\n",
       "<table border=\"1\" class=\"dataframe\">\n",
       "  <thead>\n",
       "    <tr style=\"text-align: right;\">\n",
       "      <th></th>\n",
       "      <th>STUDENT_ID</th>\n",
       "      <th>GENDER</th>\n",
       "      <th>PLACEMENT</th>\n",
       "      <th>HONOR_OPTED_OR_NOT</th>\n",
       "      <th>EDUCATION_TYPE</th>\n",
       "      <th>ACADEMIC_PROGRAM</th>\n",
       "      <th>COURSE 1 MARKS</th>\n",
       "      <th>COURSE 2 MARKS</th>\n",
       "      <th>COURSE 3 MARKS</th>\n",
       "      <th>COURSE 4 MARKS</th>\n",
       "      <th>COURSE 5 MARKS</th>\n",
       "      <th>PERCENTILE</th>\n",
       "      <th>OVEARLL_GRADE</th>\n",
       "    </tr>\n",
       "  </thead>\n",
       "  <tbody>\n",
       "    <tr>\n",
       "      <th>0</th>\n",
       "      <td>SB11201210000129</td>\n",
       "      <td>F</td>\n",
       "      <td>Yes</td>\n",
       "      <td>Yes</td>\n",
       "      <td>ACADEMIC</td>\n",
       "      <td>INDUSTRIAL ENGINEERING</td>\n",
       "      <td>71.0</td>\n",
       "      <td>93.0</td>\n",
       "      <td>71.0</td>\n",
       "      <td>93.0</td>\n",
       "      <td>79.0</td>\n",
       "      <td>91</td>\n",
       "      <td>FIRST CLASS</td>\n",
       "    </tr>\n",
       "    <tr>\n",
       "      <th>1</th>\n",
       "      <td>SB11201210000137</td>\n",
       "      <td>F</td>\n",
       "      <td>Yes</td>\n",
       "      <td>Yes</td>\n",
       "      <td>ACADEMIC</td>\n",
       "      <td>INDUSTRIAL ENGINEERING</td>\n",
       "      <td>97.0</td>\n",
       "      <td>38.0</td>\n",
       "      <td>86.0</td>\n",
       "      <td>98.0</td>\n",
       "      <td>78.0</td>\n",
       "      <td>92</td>\n",
       "      <td>THIRD CLASS</td>\n",
       "    </tr>\n",
       "    <tr>\n",
       "      <th>2</th>\n",
       "      <td>SB11201210005154</td>\n",
       "      <td>M</td>\n",
       "      <td>No</td>\n",
       "      <td>Yes</td>\n",
       "      <td>ACADEMIC</td>\n",
       "      <td>ELECTRONIC ENGINEERING</td>\n",
       "      <td>17.0</td>\n",
       "      <td>1.0</td>\n",
       "      <td>18.0</td>\n",
       "      <td>43.0</td>\n",
       "      <td>22.0</td>\n",
       "      <td>7</td>\n",
       "      <td>DISTINCTION</td>\n",
       "    </tr>\n",
       "    <tr>\n",
       "      <th>3</th>\n",
       "      <td>SB11201210007504</td>\n",
       "      <td>F</td>\n",
       "      <td>Yes</td>\n",
       "      <td>Yes</td>\n",
       "      <td>ACADEMIC</td>\n",
       "      <td>INDUSTRIAL ENGINEERING</td>\n",
       "      <td>65.0</td>\n",
       "      <td>35.0</td>\n",
       "      <td>76.0</td>\n",
       "      <td>80.0</td>\n",
       "      <td>48.0</td>\n",
       "      <td>67</td>\n",
       "      <td>FIRST CLASS</td>\n",
       "    </tr>\n",
       "    <tr>\n",
       "      <th>4</th>\n",
       "      <td>SB11201210007548</td>\n",
       "      <td>M</td>\n",
       "      <td>Yes</td>\n",
       "      <td>Yes</td>\n",
       "      <td>ACADEMIC</td>\n",
       "      <td>INDUSTRIAL ENGINEERING</td>\n",
       "      <td>94.0</td>\n",
       "      <td>94.0</td>\n",
       "      <td>98.0</td>\n",
       "      <td>100.0</td>\n",
       "      <td>71.0</td>\n",
       "      <td>98</td>\n",
       "      <td>FIRST CLASS</td>\n",
       "    </tr>\n",
       "  </tbody>\n",
       "</table>\n",
       "</div>"
      ],
      "text/plain": [
       "         STUDENT_ID GENDER PLACEMENT HONOR_OPTED_OR_NOT EDUCATION_TYPE  \\\n",
       "0  SB11201210000129      F       Yes                Yes       ACADEMIC   \n",
       "1  SB11201210000137      F       Yes                Yes       ACADEMIC   \n",
       "2  SB11201210005154      M        No                Yes       ACADEMIC   \n",
       "3  SB11201210007504      F       Yes                Yes       ACADEMIC   \n",
       "4  SB11201210007548      M       Yes                Yes       ACADEMIC   \n",
       "\n",
       "         ACADEMIC_PROGRAM  COURSE 1 MARKS  COURSE 2 MARKS  COURSE 3 MARKS  \\\n",
       "0  INDUSTRIAL ENGINEERING            71.0            93.0            71.0   \n",
       "1  INDUSTRIAL ENGINEERING            97.0            38.0            86.0   \n",
       "2  ELECTRONIC ENGINEERING            17.0             1.0            18.0   \n",
       "3  INDUSTRIAL ENGINEERING            65.0            35.0            76.0   \n",
       "4  INDUSTRIAL ENGINEERING            94.0            94.0            98.0   \n",
       "\n",
       "   COURSE 4 MARKS  COURSE 5 MARKS  PERCENTILE OVEARLL_GRADE  \n",
       "0            93.0            79.0          91   FIRST CLASS  \n",
       "1            98.0            78.0          92   THIRD CLASS  \n",
       "2            43.0            22.0           7   DISTINCTION  \n",
       "3            80.0            48.0          67   FIRST CLASS  \n",
       "4           100.0            71.0          98   FIRST CLASS  "
      ]
     },
     "execution_count": 26,
     "metadata": {},
     "output_type": "execute_result"
    }
   ],
   "source": [
    "df.head()"
   ]
  },
  {
   "cell_type": "markdown",
   "metadata": {},
   "source": [
    "### a) Scan all variables for missing values and inconsistencies. If there are missing values and/or inconsistencies, use any of the suitable techniques to deal with them."
   ]
  },
  {
   "cell_type": "code",
   "execution_count": 29,
   "metadata": {},
   "outputs": [
    {
     "name": "stdout",
     "output_type": "stream",
     "text": [
      "STUDENT_ID             0\n",
      "GENDER                22\n",
      "PLACEMENT             15\n",
      "HONOR_OPTED_OR_NOT    14\n",
      "EDUCATION_TYPE        15\n",
      "ACADEMIC_PROGRAM      34\n",
      "COURSE 1 MARKS        11\n",
      "COURSE 2 MARKS         8\n",
      "COURSE 3 MARKS        14\n",
      "COURSE 4 MARKS        14\n",
      "COURSE 5 MARKS        22\n",
      "PERCENTILE             0\n",
      "OVEARLL_GRADE          0\n",
      "dtype: int64\n"
     ]
    }
   ],
   "source": [
    "missing_values = df.isnull().sum()\n",
    "print(missing_values)"
   ]
  },
  {
   "cell_type": "code",
   "execution_count": 32,
   "metadata": {},
   "outputs": [
    {
     "data": {
      "text/plain": [
       "STUDENT_ID             object\n",
       "GENDER                 object\n",
       "PLACEMENT              object\n",
       "HONOR_OPTED_OR_NOT     object\n",
       "EDUCATION_TYPE         object\n",
       "ACADEMIC_PROGRAM       object\n",
       "COURSE 1 MARKS        float64\n",
       "COURSE 2 MARKS        float64\n",
       "COURSE 3 MARKS        float64\n",
       "COURSE 4 MARKS        float64\n",
       "COURSE 5 MARKS        float64\n",
       "PERCENTILE              int64\n",
       "OVEARLL_GRADE          object\n",
       "dtype: object"
      ]
     },
     "execution_count": 32,
     "metadata": {},
     "output_type": "execute_result"
    }
   ],
   "source": [
    "df.dtypes"
   ]
  },
  {
   "cell_type": "code",
   "execution_count": 33,
   "metadata": {},
   "outputs": [],
   "source": [
    "from sklearn.impute import SimpleImputer"
   ]
  },
  {
   "cell_type": "code",
   "execution_count": 36,
   "metadata": {},
   "outputs": [],
   "source": [
    "imputer1 = SimpleImputer(strategy='most_frequent',missing_values=np.nan)\n",
    "imputer2 = SimpleImputer(strategy='mean',missing_values=np.nan)"
   ]
  },
  {
   "cell_type": "code",
   "execution_count": 38,
   "metadata": {},
   "outputs": [],
   "source": [
    "df[['GENDER','PLACEMENT','EDUCATION_TYPE','ACADEMIC_PROGRAM']]=imputer1.fit_transform(df[['GENDER','PLACEMENT','EDUCATION_TYPE','ACADEMIC_PROGRAM']])"
   ]
  },
  {
   "cell_type": "code",
   "execution_count": 39,
   "metadata": {},
   "outputs": [],
   "source": [
    "df[['COURSE 1 MARKS','COURSE 2 MARKS','COURSE 3 MARKS','COURSE 4 MARKS','COURSE 5 MARKS']]=imputer2.fit_transform(df[['COURSE 1 MARKS','COURSE 2 MARKS','COURSE 3 MARKS','COURSE 4 MARKS','COURSE 5 MARKS']])"
   ]
  },
  {
   "cell_type": "code",
   "execution_count": 40,
   "metadata": {},
   "outputs": [
    {
     "data": {
      "text/plain": [
       "STUDENT_ID             0\n",
       "GENDER                 0\n",
       "PLACEMENT              0\n",
       "HONOR_OPTED_OR_NOT    14\n",
       "EDUCATION_TYPE         0\n",
       "ACADEMIC_PROGRAM       0\n",
       "COURSE 1 MARKS         0\n",
       "COURSE 2 MARKS         0\n",
       "COURSE 3 MARKS         0\n",
       "COURSE 4 MARKS         0\n",
       "COURSE 5 MARKS         0\n",
       "PERCENTILE             0\n",
       "OVEARLL_GRADE          0\n",
       "dtype: int64"
      ]
     },
     "execution_count": 40,
     "metadata": {},
     "output_type": "execute_result"
    }
   ],
   "source": [
    "df.isnull().sum()"
   ]
  },
  {
   "cell_type": "code",
   "execution_count": 41,
   "metadata": {},
   "outputs": [
    {
     "data": {
      "text/plain": [
       "array(['Yes', 'No', nan], dtype=object)"
      ]
     },
     "execution_count": 41,
     "metadata": {},
     "output_type": "execute_result"
    }
   ],
   "source": [
    "df['HONOR_OPTED_OR_NOT'].unique()"
   ]
  },
  {
   "cell_type": "code",
   "execution_count": 42,
   "metadata": {},
   "outputs": [],
   "source": [
    "df['HONOR_OPTED_OR_NOT']=df['HONOR_OPTED_OR_NOT'].fillna('No')"
   ]
  },
  {
   "cell_type": "code",
   "execution_count": 43,
   "metadata": {},
   "outputs": [
    {
     "data": {
      "text/plain": [
       "0"
      ]
     },
     "execution_count": 43,
     "metadata": {},
     "output_type": "execute_result"
    }
   ],
   "source": [
    "df['HONOR_OPTED_OR_NOT'].isnull().sum()"
   ]
  },
  {
   "cell_type": "code",
   "execution_count": 44,
   "metadata": {},
   "outputs": [
    {
     "data": {
      "text/plain": [
       "STUDENT_ID            0\n",
       "GENDER                0\n",
       "PLACEMENT             0\n",
       "HONOR_OPTED_OR_NOT    0\n",
       "EDUCATION_TYPE        0\n",
       "ACADEMIC_PROGRAM      0\n",
       "COURSE 1 MARKS        0\n",
       "COURSE 2 MARKS        0\n",
       "COURSE 3 MARKS        0\n",
       "COURSE 4 MARKS        0\n",
       "COURSE 5 MARKS        0\n",
       "PERCENTILE            0\n",
       "OVEARLL_GRADE         0\n",
       "dtype: int64"
      ]
     },
     "execution_count": 44,
     "metadata": {},
     "output_type": "execute_result"
    }
   ],
   "source": [
    "df.isnull().sum()"
   ]
  },
  {
   "cell_type": "markdown",
   "metadata": {},
   "source": [
    "### b) Scan all numeric variables for outliers. If there are outliers, use any of the suitable techniques to deal with them."
   ]
  },
  {
   "cell_type": "code",
   "execution_count": 45,
   "metadata": {},
   "outputs": [],
   "source": [
    "import seaborn as sns"
   ]
  },
  {
   "cell_type": "code",
   "execution_count": 46,
   "metadata": {},
   "outputs": [],
   "source": [
    "import matplotlib.pyplot as pyplot"
   ]
  },
  {
   "cell_type": "code",
   "execution_count": 47,
   "metadata": {},
   "outputs": [
    {
     "data": {
      "text/plain": [
       "<matplotlib.axes._subplots.AxesSubplot at 0x28ff2e2a430>"
      ]
     },
     "execution_count": 47,
     "metadata": {},
     "output_type": "execute_result"
    },
    {
     "data": {
      "image/png": "[encoded data removed]",
      "text/plain": [
       "<Figure size 1080x720 with 1 Axes>"
      ]
     },
     "metadata": {
      "needs_background": "light"
     },
     "output_type": "display_data"
    }
   ],
   "source": [
    "pyplot.figure(figsize=(15,10))\n",
    "sns.boxplot(data=df)"
   ]
  },
  {
   "cell_type": "code",
   "execution_count": 49,
   "metadata": {},
   "outputs": [
    {
     "data": {
      "text/plain": [
       "<matplotlib.axes._subplots.AxesSubplot at 0x28ff31df6d0>"
      ]
     },
     "execution_count": 49,
     "metadata": {},
     "output_type": "execute_result"
    },
    {
     "data": {
      "image/png": "[encoded data removed]",
      "text/plain": [
       "<Figure size 1080x720 with 1 Axes>"
      ]
     },
     "metadata": {
      "needs_background": "light"
     },
     "output_type": "display_data"
    }
   ],
   "source": [
    "#IQR Method\n",
    "qr1 = df['COURSE 1 MARKS'].quantile(0.25)\n",
    "qr3= df['COURSE 1 MARKS'].quantile(0.75)\n",
    "\n",
    "iqr = qr3-qr1\n",
    "\n",
    "lower_bound = (qr1-iqr*1.5)\n",
    "upper_bound = (qr3 + 1.5*iqr)\n",
    "\n",
    "df = df[df['COURSE 1 MARKS']>lower_bound]\n",
    "df = df[df['COURSE 1 MARKS']<upper_bound]\n",
    "\n",
    "pyplot.figure(figsize=(15,10))\n",
    "sns.boxplot(data=df)"
   ]
  },
  {
   "cell_type": "code",
   "execution_count": null,
   "metadata": {},
   "outputs": [],
   "source": []
  }
 ],
 "metadata": {
  "kernelspec": {
   "display_name": "Python 3",
   "language": "python",
   "name": "python3"
  },
  "language_info": {
   "codemirror_mode": {
    "name": "ipython",
    "version": 3
   },
   "file_extension": ".py",
   "mimetype": "text/x-python",
   "name": "python",
   "nbconvert_exporter": "python",
   "pygments_lexer": "ipython3",
   "version": "3.8.3"
  }
 },
 "nbformat": 4,
 "nbformat_minor": 4
}
