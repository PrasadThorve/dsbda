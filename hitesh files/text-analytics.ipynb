{
 "cells": [
  {
   "cell_type": "code",
   "execution_count": 1,
   "id": "8e6b4416-d277-4c4c-8be4-6877f4cfe6fc",
   "metadata": {},
   "outputs": [],
   "source": [
    "import seaborn as sns\n",
    "import pandas as pd"
   ]
  },
  {
   "cell_type": "code",
   "execution_count": 2,
   "id": "a1ceb268-b4fc-4562-9250-1a55ddf257a8",
   "metadata": {},
   "outputs": [],
   "source": [
    "amazon = pd.read_csv(\"AmazonAlexa_Reviews.csv\")"
   ]
  },
  {
   "cell_type": "code",
   "execution_count": 3,
   "id": "55c45834-2160-4536-a0e3-6634f6f3b1b2",
   "metadata": {},
   "outputs": [
    {
     "data": {
      "text/plain": [
       "rating               0\n",
       "date                 0\n",
       "variation            0\n",
       "verified_reviews    79\n",
       "feedback             0\n",
       "dtype: int64"
      ]
     },
     "execution_count": 3,
     "metadata": {},
     "output_type": "execute_result"
    }
   ],
   "source": [
    "amazon.isnull().sum()"
   ]
  },
  {
   "cell_type": "code",
   "execution_count": 4,
   "id": "c1da1fcc-d884-4e17-a8f0-3cee1081203c",
   "metadata": {},
   "outputs": [],
   "source": [
    "amazon = amazon.dropna()"
   ]
  },
  {
   "cell_type": "code",
   "execution_count": 5,
   "id": "331cf162-cfaf-4099-8e5d-c7c6d6313d42",
   "metadata": {},
   "outputs": [
    {
     "data": {
      "text/plain": [
       "rating              0\n",
       "date                0\n",
       "variation           0\n",
       "verified_reviews    0\n",
       "feedback            0\n",
       "dtype: int64"
      ]
     },
     "execution_count": 5,
     "metadata": {},
     "output_type": "execute_result"
    }
   ],
   "source": [
    "amazon.isnull().sum()"
   ]
  },
  {
   "cell_type": "code",
   "execution_count": 6,
   "id": "a9e7fb4f-a3a5-42d4-be52-713b479ed63f",
   "metadata": {},
   "outputs": [
    {
     "data": {
      "text/html": [
       "<div>\n",
       "<style scoped>\n",
       "    .dataframe tbody tr th:only-of-type {\n",
       "        vertical-align: middle;\n",
       "    }\n",
       "\n",
       "    .dataframe tbody tr th {\n",
       "        vertical-align: top;\n",
       "    }\n",
       "\n",
       "    .dataframe thead th {\n",
       "        text-align: right;\n",
       "    }\n",
       "</style>\n",
       "<table border=\"1\" class=\"dataframe\">\n",
       "  <thead>\n",
       "    <tr style=\"text-align: right;\">\n",
       "      <th></th>\n",
       "      <th>rating</th>\n",
       "      <th>date</th>\n",
       "      <th>variation</th>\n",
       "      <th>verified_reviews</th>\n",
       "      <th>feedback</th>\n",
       "    </tr>\n",
       "  </thead>\n",
       "  <tbody>\n",
       "    <tr>\n",
       "      <th>0</th>\n",
       "      <td>5</td>\n",
       "      <td>31-Jul-18</td>\n",
       "      <td>Charcoal Fabric</td>\n",
       "      <td>Love my Echo!</td>\n",
       "      <td>1</td>\n",
       "    </tr>\n",
       "    <tr>\n",
       "      <th>1</th>\n",
       "      <td>5</td>\n",
       "      <td>31-Jul-18</td>\n",
       "      <td>Charcoal Fabric</td>\n",
       "      <td>Loved it!</td>\n",
       "      <td>1</td>\n",
       "    </tr>\n",
       "    <tr>\n",
       "      <th>2</th>\n",
       "      <td>4</td>\n",
       "      <td>31-Jul-18</td>\n",
       "      <td>Walnut Finish</td>\n",
       "      <td>Sometimes while playing a game, you can answer...</td>\n",
       "      <td>1</td>\n",
       "    </tr>\n",
       "    <tr>\n",
       "      <th>3</th>\n",
       "      <td>5</td>\n",
       "      <td>31-Jul-18</td>\n",
       "      <td>Charcoal Fabric</td>\n",
       "      <td>I have had a lot of fun with this thing. My 4 ...</td>\n",
       "      <td>1</td>\n",
       "    </tr>\n",
       "    <tr>\n",
       "      <th>4</th>\n",
       "      <td>5</td>\n",
       "      <td>31-Jul-18</td>\n",
       "      <td>Charcoal Fabric</td>\n",
       "      <td>Music</td>\n",
       "      <td>1</td>\n",
       "    </tr>\n",
       "  </tbody>\n",
       "</table>\n",
       "</div>"
      ],
      "text/plain": [
       "   rating       date        variation  \\\n",
       "0       5  31-Jul-18  Charcoal Fabric   \n",
       "1       5  31-Jul-18  Charcoal Fabric   \n",
       "2       4  31-Jul-18    Walnut Finish   \n",
       "3       5  31-Jul-18  Charcoal Fabric   \n",
       "4       5  31-Jul-18  Charcoal Fabric   \n",
       "\n",
       "                                    verified_reviews  feedback  \n",
       "0                                      Love my Echo!         1  \n",
       "1                                          Loved it!         1  \n",
       "2  Sometimes while playing a game, you can answer...         1  \n",
       "3  I have had a lot of fun with this thing. My 4 ...         1  \n",
       "4                                              Music         1  "
      ]
     },
     "execution_count": 6,
     "metadata": {},
     "output_type": "execute_result"
    }
   ],
   "source": [
    "amazon.head()"
   ]
  },
  {
   "cell_type": "code",
   "execution_count": 7,
   "id": "747a8b6b-c21e-4bee-aadd-52b7f3a2af2f",
   "metadata": {},
   "outputs": [
    {
     "data": {
      "text/plain": [
       "<AxesSubplot:xlabel='feedback', ylabel='Count'>"
      ]
     },
     "execution_count": 7,
     "metadata": {},
     "output_type": "execute_result"
    },
    {
     "data": {
      "image/png": "[encoded data removed]",
      "text/plain": [
       "<Figure size 432x288 with 1 Axes>"
      ]
     },
     "metadata": {
      "needs_background": "light"
     },
     "output_type": "display_data"
    }
   ],
   "source": [
    "sns.histplot(x='feedback',data=amazon)"
   ]
  },
  {
   "cell_type": "code",
   "execution_count": 8,
   "id": "0ae0ff63-c0da-4376-8293-dcf2e621b74d",
   "metadata": {},
   "outputs": [],
   "source": [
    "amazon['verified_reviews'] = amazon['verified_reviews'].apply(lambda x: x.lower())"
   ]
  },
  {
   "cell_type": "code",
   "execution_count": 9,
   "id": "3a44220d-dea7-42ef-a8e3-7eb385f71471",
   "metadata": {},
   "outputs": [
    {
     "data": {
      "text/plain": [
       "0                                           love my echo!\n",
       "1                                               loved it!\n",
       "2       sometimes while playing a game, you can answer...\n",
       "3       i have had a lot of fun with this thing. my 4 ...\n",
       "4                                                   music\n",
       "                              ...                        \n",
       "3145    perfect for kids, adults and everyone in betwe...\n",
       "3146    listening to music, searching locations, check...\n",
       "3147    i do love these things, i have them running my...\n",
       "3148    only complaint i have is that the sound qualit...\n",
       "3149                                                 good\n",
       "Name: verified_reviews, Length: 3071, dtype: object"
      ]
     },
     "execution_count": 9,
     "metadata": {},
     "output_type": "execute_result"
    }
   ],
   "source": [
    "amazon['verified_reviews']"
   ]
  },
  {
   "cell_type": "code",
   "execution_count": 10,
   "id": "cc5d0e16-c5d1-4254-9739-74c368069d31",
   "metadata": {},
   "outputs": [],
   "source": [
    "import string"
   ]
  },
  {
   "cell_type": "code",
   "execution_count": 11,
   "id": "30e63a36-91c9-4bc1-8ab5-9627758e50c2",
   "metadata": {},
   "outputs": [],
   "source": [
    "def remove_punc(x):\n",
    "    return \"\".join(i for i in x if i not in string.punctuation)"
   ]
  },
  {
   "cell_type": "code",
   "execution_count": 12,
   "id": "547fa2de-dff1-4da9-8cac-f7921095d551",
   "metadata": {},
   "outputs": [],
   "source": [
    "import emoji\n",
    "import re"
   ]
  },
  {
   "cell_type": "code",
   "execution_count": 13,
   "id": "ab84e1b7-a6f9-4f4d-8042-02f30105ef89",
   "metadata": {},
   "outputs": [],
   "source": [
    "def remove_emoji(x):\n",
    "    return emoji.demojize(x)"
   ]
  },
  {
   "cell_type": "code",
   "execution_count": 14,
   "id": "82012b21-3b81-4d77-baba-ef3f4d84e149",
   "metadata": {},
   "outputs": [],
   "source": [
    "from nltk.corpus import stopwords"
   ]
  },
  {
   "cell_type": "code",
   "execution_count": 15,
   "id": "9f28502d-b565-4855-969b-662937a2eb93",
   "metadata": {},
   "outputs": [],
   "source": [
    "def rem_stop(x):\n",
    "    return \" \".join(i for i in x.split() if i not in stopwords.words('English'))"
   ]
  },
  {
   "cell_type": "code",
   "execution_count": 16,
   "id": "7cbf481b-787b-435d-8e7c-1d5a0e84ee9f",
   "metadata": {},
   "outputs": [],
   "source": [
    "def tokenize(x):\n",
    "    return re.split(\"W+\",x)"
   ]
  },
  {
   "cell_type": "code",
   "execution_count": 17,
   "id": "b99d18e9-0bf7-4821-92af-397fb91f8771",
   "metadata": {},
   "outputs": [],
   "source": [
    "def preprocess(x):\n",
    "    return tokenize(remove_punc(remove_emoji(rem_stop(x))))"
   ]
  },
  {
   "cell_type": "code",
   "execution_count": 18,
   "id": "a2db6fad-8ef6-4e95-9350-4ce95a7a87e6",
   "metadata": {},
   "outputs": [],
   "source": [
    "amazon['verified_reviews'] = amazon['verified_reviews'].apply(lambda x:preprocess(x))"
   ]
  },
  {
   "cell_type": "code",
   "execution_count": 19,
   "id": "4abc06af-51ab-44a3-b938-40fa025aef95",
   "metadata": {},
   "outputs": [
    {
     "data": {
      "text/html": [
       "<div>\n",
       "<style scoped>\n",
       "    .dataframe tbody tr th:only-of-type {\n",
       "        vertical-align: middle;\n",
       "    }\n",
       "\n",
       "    .dataframe tbody tr th {\n",
       "        vertical-align: top;\n",
       "    }\n",
       "\n",
       "    .dataframe thead th {\n",
       "        text-align: right;\n",
       "    }\n",
       "</style>\n",
       "<table border=\"1\" class=\"dataframe\">\n",
       "  <thead>\n",
       "    <tr style=\"text-align: right;\">\n",
       "      <th></th>\n",
       "      <th>rating</th>\n",
       "      <th>date</th>\n",
       "      <th>variation</th>\n",
       "      <th>verified_reviews</th>\n",
       "      <th>feedback</th>\n",
       "    </tr>\n",
       "  </thead>\n",
       "  <tbody>\n",
       "    <tr>\n",
       "      <th>0</th>\n",
       "      <td>5</td>\n",
       "      <td>31-Jul-18</td>\n",
       "      <td>Charcoal Fabric</td>\n",
       "      <td>[love echo]</td>\n",
       "      <td>1</td>\n",
       "    </tr>\n",
       "    <tr>\n",
       "      <th>1</th>\n",
       "      <td>5</td>\n",
       "      <td>31-Jul-18</td>\n",
       "      <td>Charcoal Fabric</td>\n",
       "      <td>[loved it]</td>\n",
       "      <td>1</td>\n",
       "    </tr>\n",
       "    <tr>\n",
       "      <th>2</th>\n",
       "      <td>4</td>\n",
       "      <td>31-Jul-18</td>\n",
       "      <td>Walnut Finish</td>\n",
       "      <td>[sometimes playing game answer question correc...</td>\n",
       "      <td>1</td>\n",
       "    </tr>\n",
       "    <tr>\n",
       "      <th>3</th>\n",
       "      <td>5</td>\n",
       "      <td>31-Jul-18</td>\n",
       "      <td>Charcoal Fabric</td>\n",
       "      <td>[lot fun thing 4 yr old learns dinosaurs contr...</td>\n",
       "      <td>1</td>\n",
       "    </tr>\n",
       "    <tr>\n",
       "      <th>4</th>\n",
       "      <td>5</td>\n",
       "      <td>31-Jul-18</td>\n",
       "      <td>Charcoal Fabric</td>\n",
       "      <td>[music]</td>\n",
       "      <td>1</td>\n",
       "    </tr>\n",
       "    <tr>\n",
       "      <th>...</th>\n",
       "      <td>...</td>\n",
       "      <td>...</td>\n",
       "      <td>...</td>\n",
       "      <td>...</td>\n",
       "      <td>...</td>\n",
       "    </tr>\n",
       "    <tr>\n",
       "      <th>3145</th>\n",
       "      <td>5</td>\n",
       "      <td>30-Jul-18</td>\n",
       "      <td>Black  Dot</td>\n",
       "      <td>[perfect kids adults everyone between]</td>\n",
       "      <td>1</td>\n",
       "    </tr>\n",
       "    <tr>\n",
       "      <th>3146</th>\n",
       "      <td>5</td>\n",
       "      <td>30-Jul-18</td>\n",
       "      <td>Black  Dot</td>\n",
       "      <td>[listening music searching locations checking ...</td>\n",
       "      <td>1</td>\n",
       "    </tr>\n",
       "    <tr>\n",
       "      <th>3147</th>\n",
       "      <td>5</td>\n",
       "      <td>30-Jul-18</td>\n",
       "      <td>Black  Dot</td>\n",
       "      <td>[love things running entire home tv lights the...</td>\n",
       "      <td>1</td>\n",
       "    </tr>\n",
       "    <tr>\n",
       "      <th>3148</th>\n",
       "      <td>5</td>\n",
       "      <td>30-Jul-18</td>\n",
       "      <td>White  Dot</td>\n",
       "      <td>[complaint sound quality great mostly use comm...</td>\n",
       "      <td>1</td>\n",
       "    </tr>\n",
       "    <tr>\n",
       "      <th>3149</th>\n",
       "      <td>4</td>\n",
       "      <td>29-Jul-18</td>\n",
       "      <td>Black  Dot</td>\n",
       "      <td>[good]</td>\n",
       "      <td>1</td>\n",
       "    </tr>\n",
       "  </tbody>\n",
       "</table>\n",
       "<p>3071 rows × 5 columns</p>\n",
       "</div>"
      ],
      "text/plain": [
       "      rating       date        variation  \\\n",
       "0          5  31-Jul-18  Charcoal Fabric   \n",
       "1          5  31-Jul-18  Charcoal Fabric   \n",
       "2          4  31-Jul-18    Walnut Finish   \n",
       "3          5  31-Jul-18  Charcoal Fabric   \n",
       "4          5  31-Jul-18  Charcoal Fabric   \n",
       "...      ...        ...              ...   \n",
       "3145       5  30-Jul-18       Black  Dot   \n",
       "3146       5  30-Jul-18       Black  Dot   \n",
       "3147       5  30-Jul-18       Black  Dot   \n",
       "3148       5  30-Jul-18       White  Dot   \n",
       "3149       4  29-Jul-18       Black  Dot   \n",
       "\n",
       "                                       verified_reviews  feedback  \n",
       "0                                           [love echo]         1  \n",
       "1                                            [loved it]         1  \n",
       "2     [sometimes playing game answer question correc...         1  \n",
       "3     [lot fun thing 4 yr old learns dinosaurs contr...         1  \n",
       "4                                               [music]         1  \n",
       "...                                                 ...       ...  \n",
       "3145             [perfect kids adults everyone between]         1  \n",
       "3146  [listening music searching locations checking ...         1  \n",
       "3147  [love things running entire home tv lights the...         1  \n",
       "3148  [complaint sound quality great mostly use comm...         1  \n",
       "3149                                             [good]         1  \n",
       "\n",
       "[3071 rows x 5 columns]"
      ]
     },
     "execution_count": 19,
     "metadata": {},
     "output_type": "execute_result"
    }
   ],
   "source": [
    "amazon"
   ]
  },
  {
   "cell_type": "code",
   "execution_count": 20,
   "id": "51083bbe-60f0-4443-a1ac-4b50e26846aa",
   "metadata": {},
   "outputs": [],
   "source": [
    " from nltk.stem.porter import PorterStemmer"
   ]
  },
  {
   "cell_type": "code",
   "execution_count": 21,
   "id": "7a0a9a81-4231-4d89-a293-72424f37c405",
   "metadata": {},
   "outputs": [],
   "source": [
    "stemmer = PorterStemmer()"
   ]
  },
  {
   "cell_type": "code",
   "execution_count": 22,
   "id": "e7b0adc1-0b01-4f1b-b44c-fc389752b39a",
   "metadata": {},
   "outputs": [],
   "source": [
    "def stem(text):\n",
    "    return \" \".join(stemmer.stem(word) for word in text)"
   ]
  },
  {
   "cell_type": "code",
   "execution_count": 23,
   "id": "210851cb-cbb5-4cb2-a872-da8f93baf77d",
   "metadata": {},
   "outputs": [],
   "source": [
    "amazon['verified_reviews'] = amazon['verified_reviews'].apply(lambda x:stem(x))"
   ]
  },
  {
   "cell_type": "code",
   "execution_count": 24,
   "id": "83afd420-ac25-4302-bc0c-b5c22d02cb80",
   "metadata": {},
   "outputs": [
    {
     "data": {
      "text/plain": [
       "0                                               love echo\n",
       "1                                                loved it\n",
       "2       sometimes playing game answer question correct...\n",
       "3       lot fun thing 4 yr old learns dinosaurs contro...\n",
       "4                                                   music\n",
       "                              ...                        \n",
       "3145                 perfect kids adults everyone between\n",
       "3146    listening music searching locations checking t...\n",
       "3147    love things running entire home tv lights ther...\n",
       "3148    complaint sound quality great mostly use comma...\n",
       "3149                                                 good\n",
       "Name: verified_reviews, Length: 3071, dtype: object"
      ]
     },
     "execution_count": 24,
     "metadata": {},
     "output_type": "execute_result"
    }
   ],
   "source": [
    "amazon['verified_reviews']"
   ]
  },
  {
   "cell_type": "code",
   "execution_count": 25,
   "id": "71a60ca0-f9f2-4e02-9fe5-4cc4fd92033a",
   "metadata": {},
   "outputs": [],
   "source": [
    "from nltk.stem import WordNetLemmatizer"
   ]
  },
  {
   "cell_type": "code",
   "execution_count": 26,
   "id": "d72179e0-f4e1-4d41-be9f-1b616850d510",
   "metadata": {},
   "outputs": [],
   "source": [
    "lemmatizer = WordNetLemmatizer()"
   ]
  },
  {
   "cell_type": "code",
   "execution_count": 27,
   "id": "72235a80-bb41-4bed-9946-5eeab2296858",
   "metadata": {},
   "outputs": [],
   "source": [
    "def lemmatize(text):\n",
    "    return \" \".join(lemmatizer.lemmatize(word) for word in text.split())"
   ]
  },
  {
   "cell_type": "code",
   "execution_count": 28,
   "id": "aad5ab44-717a-4be5-93eb-018289c4c5c4",
   "metadata": {},
   "outputs": [],
   "source": [
    "amazon['verified_reviews'] = amazon['verified_reviews'].apply(lambda x:lemmatize(x))"
   ]
  },
  {
   "cell_type": "code",
   "execution_count": null,
   "id": "a99042b7-9129-41c6-9d58-4c29768783c0",
   "metadata": {},
   "outputs": [],
   "source": []
  }
 ],
 "metadata": {
  "kernelspec": {
   "display_name": "Python 3",
   "language": "python",
   "name": "python3"
  },
  "language_info": {
   "codemirror_mode": {
    "name": "ipython",
    "version": 3
   },
   "file_extension": ".py",
   "mimetype": "text/x-python",
   "name": "python",
   "nbconvert_exporter": "python",
   "pygments_lexer": "ipython3",
   "version": "3.8.8"
  }
 },
 "nbformat": 4,
 "nbformat_minor": 5
}
